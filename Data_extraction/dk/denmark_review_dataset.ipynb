{
 "cells": [
  {
   "cell_type": "code",
   "execution_count": 1,
   "id": "ea443e5c",
   "metadata": {},
   "outputs": [],
   "source": [
    "import pandas as pd\n",
    "import numpy as np"
   ]
  },
  {
   "cell_type": "code",
   "execution_count": 4,
   "id": "9d53c35e",
   "metadata": {},
   "outputs": [],
   "source": [
    "app_112_df = pd.read_csv('112 App.csv')"
   ]
  },
  {
   "cell_type": "code",
   "execution_count": 5,
   "id": "b1d0a8f9",
   "metadata": {},
   "outputs": [
    {
     "data": {
      "text/plain": [
       "(7, 6)"
      ]
     },
     "execution_count": 5,
     "metadata": {},
     "output_type": "execute_result"
    }
   ],
   "source": [
    "app_112_df.shape"
   ]
  },
  {
   "cell_type": "code",
   "execution_count": 6,
   "id": "84c7001a",
   "metadata": {},
   "outputs": [
    {
     "data": {
      "text/html": [
       "<div>\n",
       "<style scoped>\n",
       "    .dataframe tbody tr th:only-of-type {\n",
       "        vertical-align: middle;\n",
       "    }\n",
       "\n",
       "    .dataframe tbody tr th {\n",
       "        vertical-align: top;\n",
       "    }\n",
       "\n",
       "    .dataframe thead th {\n",
       "        text-align: right;\n",
       "    }\n",
       "</style>\n",
       "<table border=\"1\" class=\"dataframe\">\n",
       "  <thead>\n",
       "    <tr style=\"text-align: right;\">\n",
       "      <th></th>\n",
       "      <th>Review Id</th>\n",
       "      <th>User Name</th>\n",
       "      <th>Review</th>\n",
       "      <th>Rating</th>\n",
       "      <th>Date of Review</th>\n",
       "      <th>reviewCreatedVersion</th>\n",
       "    </tr>\n",
       "  </thead>\n",
       "  <tbody>\n",
       "    <tr>\n",
       "      <th>0</th>\n",
       "      <td>8fe81997-41bc-4631-9425-e137bf34e07c</td>\n",
       "      <td>A Google user</td>\n",
       "      <td>This app was not I Login bot something it was ...</td>\n",
       "      <td>1</td>\n",
       "      <td>2019-12-26 15:40:39</td>\n",
       "      <td>1.2.0</td>\n",
       "    </tr>\n",
       "    <tr>\n",
       "      <th>1</th>\n",
       "      <td>0f677302-a5c4-4e56-bbe4-84123e9a1923</td>\n",
       "      <td>A Google user</td>\n",
       "      <td>Great all possible method how to protect for w...</td>\n",
       "      <td>4</td>\n",
       "      <td>2019-11-30 17:41:43</td>\n",
       "      <td>1.2.0</td>\n",
       "    </tr>\n",
       "    <tr>\n",
       "      <th>2</th>\n",
       "      <td>8dd740a4-98b7-4073-a24f-31688ec5aeda</td>\n",
       "      <td>A Google user</td>\n",
       "      <td>Didn't seem to work (maybe my mistake for doin...</td>\n",
       "      <td>4</td>\n",
       "      <td>2018-01-30 09:09:37</td>\n",
       "      <td>1.1.5</td>\n",
       "    </tr>\n",
       "    <tr>\n",
       "      <th>3</th>\n",
       "      <td>NaN</td>\n",
       "      <td>Adferger1</td>\n",
       "      <td>Does not work. Why did we lose the original 11...</td>\n",
       "      <td>1</td>\n",
       "      <td>2021-08-21</td>\n",
       "      <td>NaN</td>\n",
       "    </tr>\n",
       "    <tr>\n",
       "      <th>4</th>\n",
       "      <td>NaN</td>\n",
       "      <td>@nnemor</td>\n",
       "      <td>Indicates my address 2 steps away from my addr...</td>\n",
       "      <td>1</td>\n",
       "      <td>2021-10-17</td>\n",
       "      <td>NaN</td>\n",
       "    </tr>\n",
       "    <tr>\n",
       "      <th>5</th>\n",
       "      <td>NaN</td>\n",
       "      <td>Finn Egon</td>\n",
       "      <td>It shows my neighbor's address, it's good prac...</td>\n",
       "      <td>1</td>\n",
       "      <td>2021-10-16</td>\n",
       "      <td>NaN</td>\n",
       "    </tr>\n",
       "    <tr>\n",
       "      <th>6</th>\n",
       "      <td>NaN</td>\n",
       "      <td>Michael Rygaard</td>\n",
       "      <td>It takes time to load ads, not exactly what yo...</td>\n",
       "      <td>1</td>\n",
       "      <td>2021-09-13</td>\n",
       "      <td>NaN</td>\n",
       "    </tr>\n",
       "  </tbody>\n",
       "</table>\n",
       "</div>"
      ],
      "text/plain": [
       "                              Review Id        User Name  \\\n",
       "0  8fe81997-41bc-4631-9425-e137bf34e07c    A Google user   \n",
       "1  0f677302-a5c4-4e56-bbe4-84123e9a1923    A Google user   \n",
       "2  8dd740a4-98b7-4073-a24f-31688ec5aeda    A Google user   \n",
       "3                                   NaN        Adferger1   \n",
       "4                                   NaN          @nnemor   \n",
       "5                                   NaN        Finn Egon   \n",
       "6                                   NaN  Michael Rygaard   \n",
       "\n",
       "                                              Review  Rating  \\\n",
       "0  This app was not I Login bot something it was ...       1   \n",
       "1  Great all possible method how to protect for w...       4   \n",
       "2  Didn't seem to work (maybe my mistake for doin...       4   \n",
       "3  Does not work. Why did we lose the original 11...       1   \n",
       "4  Indicates my address 2 steps away from my addr...       1   \n",
       "5  It shows my neighbor's address, it's good prac...       1   \n",
       "6  It takes time to load ads, not exactly what yo...       1   \n",
       "\n",
       "        Date of Review reviewCreatedVersion  \n",
       "0  2019-12-26 15:40:39                1.2.0  \n",
       "1  2019-11-30 17:41:43                1.2.0  \n",
       "2  2018-01-30 09:09:37                1.1.5  \n",
       "3           2021-08-21                  NaN  \n",
       "4           2021-10-17                  NaN  \n",
       "5           2021-10-16                  NaN  \n",
       "6           2021-09-13                  NaN  "
      ]
     },
     "execution_count": 6,
     "metadata": {},
     "output_type": "execute_result"
    }
   ],
   "source": [
    "app_112_df"
   ]
  },
  {
   "cell_type": "code",
   "execution_count": null,
   "id": "f9a647bc",
   "metadata": {},
   "outputs": [],
   "source": []
  }
 ],
 "metadata": {
  "kernelspec": {
   "display_name": "Python 3 (ipykernel)",
   "language": "python",
   "name": "python3"
  },
  "language_info": {
   "codemirror_mode": {
    "name": "ipython",
    "version": 3
   },
   "file_extension": ".py",
   "mimetype": "text/x-python",
   "name": "python",
   "nbconvert_exporter": "python",
   "pygments_lexer": "ipython3",
   "version": "3.9.13"
  }
 },
 "nbformat": 4,
 "nbformat_minor": 5
}
