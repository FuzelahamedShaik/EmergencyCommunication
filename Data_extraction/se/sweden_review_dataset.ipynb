{
 "cells": [
  {
   "cell_type": "code",
   "execution_count": 1,
   "id": "4ad49eb5",
   "metadata": {},
   "outputs": [],
   "source": [
    "import pandas as pd\n",
    "import numpy as np\n",
    "from datetime import *"
   ]
  },
  {
   "cell_type": "code",
   "execution_count": 2,
   "id": "cdbaf589",
   "metadata": {},
   "outputs": [],
   "source": [
    "sos_alarm_df = pd.read_csv('SOS Alarm.csv')\n",
    "kinfo_df = pd.read_csv('Krisinformation.se.csv')"
   ]
  },
  {
   "cell_type": "code",
   "execution_count": 14,
   "id": "b8e0bcd2",
   "metadata": {},
   "outputs": [
    {
     "data": {
      "text/plain": [
       "'Gillar idén med appen och den verkar fungera bra. Dock drar den väldigt mycket batteri, runt 25% om dagen enligt min LG V30.'"
      ]
     },
     "execution_count": 14,
     "metadata": {},
     "output_type": "execute_result"
    }
   ],
   "source": [
    "sos_alarm_df['Review'].iloc[12]"
   ]
  },
  {
   "cell_type": "code",
   "execution_count": 4,
   "id": "3427cb2d",
   "metadata": {},
   "outputs": [
    {
     "data": {
      "text/plain": [
       "(469, 6)"
      ]
     },
     "execution_count": 4,
     "metadata": {},
     "output_type": "execute_result"
    }
   ],
   "source": [
    "sos_alarm_df.shape"
   ]
  },
  {
   "cell_type": "code",
   "execution_count": 5,
   "id": "5eca8635",
   "metadata": {},
   "outputs": [
    {
     "data": {
      "text/plain": [
       "(228, 6)"
      ]
     },
     "execution_count": 5,
     "metadata": {},
     "output_type": "execute_result"
    }
   ],
   "source": [
    "kinfo_df.shape"
   ]
  },
  {
   "cell_type": "code",
   "execution_count": 24,
   "id": "ccd146b3",
   "metadata": {},
   "outputs": [
    {
     "data": {
      "text/plain": [
       "Review Id                                                       NaN\n",
       "User Name                                                   Lisen_1\n",
       "Review                  I like that you can select several counties\n",
       "Rating                                                            5\n",
       "Date of Review                                           2012-04-04\n",
       "reviewCreatedVersion                                            NaN\n",
       "Name: 227, dtype: object"
      ]
     },
     "execution_count": 24,
     "metadata": {},
     "output_type": "execute_result"
    }
   ],
   "source": [
    "kinfo_df.iloc[227]"
   ]
  },
  {
   "cell_type": "code",
   "execution_count": 6,
   "id": "fbcb6218",
   "metadata": {},
   "outputs": [
    {
     "data": {
      "text/plain": [
       "Review Id               345\n",
       "User Name                 0\n",
       "Review                    4\n",
       "Rating                    0\n",
       "Date of Review            0\n",
       "reviewCreatedVersion    372\n",
       "dtype: int64"
      ]
     },
     "execution_count": 6,
     "metadata": {},
     "output_type": "execute_result"
    }
   ],
   "source": [
    "sos_alarm_df.isnull().sum()"
   ]
  },
  {
   "cell_type": "code",
   "execution_count": 7,
   "id": "bd5ab94a",
   "metadata": {},
   "outputs": [
    {
     "data": {
      "text/plain": [
       "Review Id               187\n",
       "User Name                 0\n",
       "Review                    0\n",
       "Rating                    0\n",
       "Date of Review            0\n",
       "reviewCreatedVersion    190\n",
       "dtype: int64"
      ]
     },
     "execution_count": 7,
     "metadata": {},
     "output_type": "execute_result"
    }
   ],
   "source": [
    "kinfo_df.isnull().sum()"
   ]
  },
  {
   "cell_type": "code",
   "execution_count": 8,
   "id": "95b23afb",
   "metadata": {},
   "outputs": [],
   "source": [
    "kinfo_version = ['2.5','2.4','2.3','2.2.1','2.2','2.1.1','2.1','2.0.3','2.0.2','2.0.1','2.0','1.3','1.2','1.1','1.0.1','1.0']"
   ]
  },
  {
   "cell_type": "code",
   "execution_count": 9,
   "id": "97d4e43f",
   "metadata": {},
   "outputs": [],
   "source": [
    "kinfo_version_dates = ['17-12-2019','07-10-2019','15-06-2019','03-10-2018','08-09-2018','27-05-2018','23-05-2018','09-01-2018','14-04-2017','09-03-2017','13-02-2017','16-07-2015','25-11-2014','13-06-2013','30-04-2012','04-04-2012']"
   ]
  },
  {
   "cell_type": "code",
   "execution_count": 10,
   "id": "19a4ef9a",
   "metadata": {},
   "outputs": [],
   "source": [
    "kinfo_release_dates_df = pd.DataFrame()\n",
    "kinfo_release_dates_df['versions'] = kinfo_version\n",
    "kinfo_release_dates_df['release_dates'] = kinfo_version_dates"
   ]
  },
  {
   "cell_type": "code",
   "execution_count": 31,
   "id": "1fafb58a",
   "metadata": {
    "scrolled": true
   },
   "outputs": [
    {
     "data": {
      "text/plain": [
       "0      2021-06-18 15:25:13\n",
       "1      2021-05-14 00:58:57\n",
       "2      2020-12-07 14:20:34\n",
       "3      2020-12-03 18:52:15\n",
       "4      2020-11-06 09:32:36\n",
       "              ...         \n",
       "223             2012-04-13\n",
       "224             2012-04-13\n",
       "225             2012-04-12\n",
       "226             2017-04-07\n",
       "227             2012-04-04\n",
       "Name: Date of Review, Length: 228, dtype: object"
      ]
     },
     "execution_count": 31,
     "metadata": {},
     "output_type": "execute_result"
    }
   ],
   "source": [
    "kinfo_df['Date of Review']"
   ]
  },
  {
   "cell_type": "code",
   "execution_count": 53,
   "id": "c30f884e",
   "metadata": {},
   "outputs": [
    {
     "name": "stderr",
     "output_type": "stream",
     "text": [
      "C:\\Users\\Fuzel Shaik\\AppData\\Local\\Temp\\ipykernel_34076\\3029160038.py:14: SettingWithCopyWarning: \n",
      "A value is trying to be set on a copy of a slice from a DataFrame\n",
      "\n",
      "See the caveats in the documentation: https://pandas.pydata.org/pandas-docs/stable/user_guide/indexing.html#returning-a-view-versus-a-copy\n",
      "  kinfo_df['reviewCreatedVersion'].iloc[i] = kinfo_release_dates_df['versions'].iloc[j]\n"
     ]
    }
   ],
   "source": [
    "l = ['27-02-2023']\n",
    "for i in range(kinfo_release_dates_df.shape[0]-1):\n",
    "    l.append(kinfo_release_dates_df['release_dates'].iloc[i])\n",
    "kinfo_release_dates_df['end_dates'] = l\n",
    "for i in list(np.where(kinfo_df['reviewCreatedVersion'].isnull())[0]):\n",
    "        for j in range(kinfo_release_dates_df.shape[0]):\n",
    "                d1, m1, y1 = [int(x) for x in kinfo_release_dates_df['release_dates'].iloc[j].split('-')]\n",
    "                b1 = date(y1, m1, d1)\n",
    "                d2, m2, y2 = [int(x) for x in kinfo_release_dates_df['end_dates'].iloc[j].split('-')]\n",
    "                b2 = date(y2, m2, d2)\n",
    "                y, m, d = [int(x) for x in kinfo_df['Date of Review'].iloc[i].split(' ')[0].split('-')]\n",
    "                b = date(y, m, d) \n",
    "                if b>=b1 and b<b2:\n",
    "                    kinfo_df['reviewCreatedVersion'].iloc[i] = kinfo_release_dates_df['versions'].iloc[j]"
   ]
  },
  {
   "cell_type": "code",
   "execution_count": 54,
   "id": "dfc3a207",
   "metadata": {},
   "outputs": [
    {
     "data": {
      "text/plain": [
       "Review Id               187\n",
       "User Name                 0\n",
       "Review                    0\n",
       "Rating                    0\n",
       "Date of Review            0\n",
       "reviewCreatedVersion      0\n",
       "dtype: int64"
      ]
     },
     "execution_count": 54,
     "metadata": {},
     "output_type": "execute_result"
    }
   ],
   "source": [
    "kinfo_df.isnull().sum()"
   ]
  },
  {
   "cell_type": "code",
   "execution_count": 56,
   "id": "921d4bab",
   "metadata": {},
   "outputs": [],
   "source": [
    "kinfo_df.to_csv('krisinfo_se.csv',index=False)"
   ]
  },
  {
   "cell_type": "code",
   "execution_count": null,
   "id": "7d3c599a",
   "metadata": {},
   "outputs": [],
   "source": []
  }
 ],
 "metadata": {
  "kernelspec": {
   "display_name": "Python 3 (ipykernel)",
   "language": "python",
   "name": "python3"
  },
  "language_info": {
   "codemirror_mode": {
    "name": "ipython",
    "version": 3
   },
   "file_extension": ".py",
   "mimetype": "text/x-python",
   "name": "python",
   "nbconvert_exporter": "python",
   "pygments_lexer": "ipython3",
   "version": "3.9.13"
  }
 },
 "nbformat": 4,
 "nbformat_minor": 5
}
