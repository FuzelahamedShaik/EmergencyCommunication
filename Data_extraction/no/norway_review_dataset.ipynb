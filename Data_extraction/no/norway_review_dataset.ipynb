{
 "cells": [
  {
   "cell_type": "code",
   "execution_count": 29,
   "id": "6be868c9",
   "metadata": {},
   "outputs": [],
   "source": [
    "import pandas as pd\n",
    "import numpy as np\n",
    "from datetime import *"
   ]
  },
  {
   "cell_type": "code",
   "execution_count": 16,
   "id": "4b196823",
   "metadata": {},
   "outputs": [],
   "source": [
    "help_113_df = pd.read_csv('Hjelp 113.csv')\n",
    "nodnummer_df = pd.read_csv('Nødnummer.csv')"
   ]
  },
  {
   "cell_type": "code",
   "execution_count": 19,
   "id": "c8abfaee",
   "metadata": {},
   "outputs": [
    {
     "data": {
      "text/plain": [
       "(147, 6)"
      ]
     },
     "execution_count": 19,
     "metadata": {},
     "output_type": "execute_result"
    }
   ],
   "source": [
    "help_113_df.shape"
   ]
  },
  {
   "cell_type": "code",
   "execution_count": 20,
   "id": "f60915d3",
   "metadata": {},
   "outputs": [
    {
     "data": {
      "text/plain": [
       "(6, 6)"
      ]
     },
     "execution_count": 20,
     "metadata": {},
     "output_type": "execute_result"
    }
   ],
   "source": [
    "nodnummer_df.shape"
   ]
  },
  {
   "cell_type": "code",
   "execution_count": 21,
   "id": "d85f9d23",
   "metadata": {},
   "outputs": [
    {
     "data": {
      "text/html": [
       "<div>\n",
       "<style scoped>\n",
       "    .dataframe tbody tr th:only-of-type {\n",
       "        vertical-align: middle;\n",
       "    }\n",
       "\n",
       "    .dataframe tbody tr th {\n",
       "        vertical-align: top;\n",
       "    }\n",
       "\n",
       "    .dataframe thead th {\n",
       "        text-align: right;\n",
       "    }\n",
       "</style>\n",
       "<table border=\"1\" class=\"dataframe\">\n",
       "  <thead>\n",
       "    <tr style=\"text-align: right;\">\n",
       "      <th></th>\n",
       "      <th>Review Id</th>\n",
       "      <th>User Name</th>\n",
       "      <th>Review</th>\n",
       "      <th>Rating</th>\n",
       "      <th>Date of Review</th>\n",
       "      <th>reviewCreatedVersion</th>\n",
       "    </tr>\n",
       "  </thead>\n",
       "  <tbody>\n",
       "    <tr>\n",
       "      <th>0</th>\n",
       "      <td>e7f7b638-24d7-4081-806c-ed7fbb308fec</td>\n",
       "      <td>A Google user</td>\n",
       "      <td>Add @enger109 on snap</td>\n",
       "      <td>5</td>\n",
       "      <td>2019-08-31 18:03:28</td>\n",
       "      <td>1.2.2</td>\n",
       "    </tr>\n",
       "    <tr>\n",
       "      <th>1</th>\n",
       "      <td>NaN</td>\n",
       "      <td>Fjorn2</td>\n",
       "      <td>Klp was not involved either. Location of where...</td>\n",
       "      <td>4</td>\n",
       "      <td>2013-09-05</td>\n",
       "      <td>NaN</td>\n",
       "    </tr>\n",
       "    <tr>\n",
       "      <th>2</th>\n",
       "      <td>NaN</td>\n",
       "      <td>Thomasenger</td>\n",
       "      <td>Please. Optimize this app for something more t...</td>\n",
       "      <td>2</td>\n",
       "      <td>2019-01-28</td>\n",
       "      <td>NaN</td>\n",
       "    </tr>\n",
       "    <tr>\n",
       "      <th>3</th>\n",
       "      <td>NaN</td>\n",
       "      <td>HælleMåne</td>\n",
       "      <td>Doesn't work</td>\n",
       "      <td>1</td>\n",
       "      <td>2015-04-28</td>\n",
       "      <td>NaN</td>\n",
       "    </tr>\n",
       "    <tr>\n",
       "      <th>4</th>\n",
       "      <td>NaN</td>\n",
       "      <td>Norwegian in Wiesn</td>\n",
       "      <td>The idea behind this app is superb, and a must...</td>\n",
       "      <td>4</td>\n",
       "      <td>2013-09-05</td>\n",
       "      <td>NaN</td>\n",
       "    </tr>\n",
       "    <tr>\n",
       "      <th>5</th>\n",
       "      <td>NaN</td>\n",
       "      <td>Tulltur</td>\n",
       "      <td>The only thing missing was that the name of co...</td>\n",
       "      <td>4</td>\n",
       "      <td>2013-09-04</td>\n",
       "      <td>NaN</td>\n",
       "    </tr>\n",
       "  </tbody>\n",
       "</table>\n",
       "</div>"
      ],
      "text/plain": [
       "                              Review Id           User Name  \\\n",
       "0  e7f7b638-24d7-4081-806c-ed7fbb308fec       A Google user   \n",
       "1                                   NaN              Fjorn2   \n",
       "2                                   NaN         Thomasenger   \n",
       "3                                   NaN           HælleMåne   \n",
       "4                                   NaN  Norwegian in Wiesn   \n",
       "5                                   NaN             Tulltur   \n",
       "\n",
       "                                              Review  Rating  \\\n",
       "0                              Add @enger109 on snap       5   \n",
       "1  Klp was not involved either. Location of where...       4   \n",
       "2  Please. Optimize this app for something more t...       2   \n",
       "3                                       Doesn't work       1   \n",
       "4  The idea behind this app is superb, and a must...       4   \n",
       "5  The only thing missing was that the name of co...       4   \n",
       "\n",
       "        Date of Review reviewCreatedVersion  \n",
       "0  2019-08-31 18:03:28                1.2.2  \n",
       "1           2013-09-05                  NaN  \n",
       "2           2019-01-28                  NaN  \n",
       "3           2015-04-28                  NaN  \n",
       "4           2013-09-05                  NaN  \n",
       "5           2013-09-04                  NaN  "
      ]
     },
     "execution_count": 21,
     "metadata": {},
     "output_type": "execute_result"
    }
   ],
   "source": [
    "nodnummer_df"
   ]
  },
  {
   "cell_type": "code",
   "execution_count": 23,
   "id": "ccd82732",
   "metadata": {},
   "outputs": [
    {
     "data": {
      "text/plain": [
       "Review Id               114\n",
       "User Name                 0\n",
       "Review                    0\n",
       "Rating                    0\n",
       "Date of Review            0\n",
       "reviewCreatedVersion    117\n",
       "dtype: int64"
      ]
     },
     "execution_count": 23,
     "metadata": {},
     "output_type": "execute_result"
    }
   ],
   "source": [
    "help_113_df.isnull().sum()"
   ]
  },
  {
   "cell_type": "code",
   "execution_count": 24,
   "id": "fdbe8336",
   "metadata": {},
   "outputs": [
    {
     "data": {
      "text/html": [
       "<div>\n",
       "<style scoped>\n",
       "    .dataframe tbody tr th:only-of-type {\n",
       "        vertical-align: middle;\n",
       "    }\n",
       "\n",
       "    .dataframe tbody tr th {\n",
       "        vertical-align: top;\n",
       "    }\n",
       "\n",
       "    .dataframe thead th {\n",
       "        text-align: right;\n",
       "    }\n",
       "</style>\n",
       "<table border=\"1\" class=\"dataframe\">\n",
       "  <thead>\n",
       "    <tr style=\"text-align: right;\">\n",
       "      <th></th>\n",
       "      <th>Review Id</th>\n",
       "      <th>User Name</th>\n",
       "      <th>Review</th>\n",
       "      <th>Rating</th>\n",
       "      <th>Date of Review</th>\n",
       "      <th>reviewCreatedVersion</th>\n",
       "    </tr>\n",
       "  </thead>\n",
       "  <tbody>\n",
       "    <tr>\n",
       "      <th>0</th>\n",
       "      <td>7f567877-a1ae-4fe7-80e3-c5d82c0c39eb</td>\n",
       "      <td>N1NJASOAP</td>\n",
       "      <td>hope I don't get to use this app</td>\n",
       "      <td>4</td>\n",
       "      <td>2023-02-12 01:04:20</td>\n",
       "      <td>6.0.9</td>\n",
       "    </tr>\n",
       "    <tr>\n",
       "      <th>1</th>\n",
       "      <td>f61cb407-0ef5-4582-8d5b-541946830fee</td>\n",
       "      <td>Michael Forbes</td>\n",
       "      <td>I can't register it properly. When I have to a...</td>\n",
       "      <td>2</td>\n",
       "      <td>2022-09-26 16:56:41</td>\n",
       "      <td>6.0.7</td>\n",
       "    </tr>\n",
       "    <tr>\n",
       "      <th>2</th>\n",
       "      <td>d2475d1c-a0f9-4f9c-a5cc-768a16dc9046</td>\n",
       "      <td>Morale Kadiri</td>\n",
       "      <td>Am yet to use it</td>\n",
       "      <td>4</td>\n",
       "      <td>2022-04-16 16:19:29</td>\n",
       "      <td>5.0.12</td>\n",
       "    </tr>\n",
       "    <tr>\n",
       "      <th>3</th>\n",
       "      <td>7612ebee-0c46-4cdd-bdca-d0dcd4575b4d</td>\n",
       "      <td>Ole Anders Røsand</td>\n",
       "      <td>App tried without success. Not sure what happe...</td>\n",
       "      <td>1</td>\n",
       "      <td>2021-06-13 21:56:28</td>\n",
       "      <td>5.0.12</td>\n",
       "    </tr>\n",
       "    <tr>\n",
       "      <th>4</th>\n",
       "      <td>b341cd01-5659-4a5a-95f6-9602be711080</td>\n",
       "      <td>A Google user</td>\n",
       "      <td>Fine with dark mode but where do you switch ba...</td>\n",
       "      <td>5</td>\n",
       "      <td>2021-03-24 12:42:02</td>\n",
       "      <td>5.0.12</td>\n",
       "    </tr>\n",
       "  </tbody>\n",
       "</table>\n",
       "</div>"
      ],
      "text/plain": [
       "                              Review Id          User Name  \\\n",
       "0  7f567877-a1ae-4fe7-80e3-c5d82c0c39eb          N1NJASOAP   \n",
       "1  f61cb407-0ef5-4582-8d5b-541946830fee     Michael Forbes   \n",
       "2  d2475d1c-a0f9-4f9c-a5cc-768a16dc9046      Morale Kadiri   \n",
       "3  7612ebee-0c46-4cdd-bdca-d0dcd4575b4d  Ole Anders Røsand   \n",
       "4  b341cd01-5659-4a5a-95f6-9602be711080      A Google user   \n",
       "\n",
       "                                              Review  Rating  \\\n",
       "0                   hope I don't get to use this app       4   \n",
       "1  I can't register it properly. When I have to a...       2   \n",
       "2                                   Am yet to use it       4   \n",
       "3  App tried without success. Not sure what happe...       1   \n",
       "4  Fine with dark mode but where do you switch ba...       5   \n",
       "\n",
       "        Date of Review reviewCreatedVersion  \n",
       "0  2023-02-12 01:04:20                6.0.9  \n",
       "1  2022-09-26 16:56:41                6.0.7  \n",
       "2  2022-04-16 16:19:29               5.0.12  \n",
       "3  2021-06-13 21:56:28               5.0.12  \n",
       "4  2021-03-24 12:42:02               5.0.12  "
      ]
     },
     "execution_count": 24,
     "metadata": {},
     "output_type": "execute_result"
    }
   ],
   "source": [
    "help_113_df.head()"
   ]
  },
  {
   "cell_type": "code",
   "execution_count": 25,
   "id": "a3d968f3",
   "metadata": {},
   "outputs": [],
   "source": [
    "hjelp_versions = ['6.1.0','6.0.6','6.0.5','6.0.2','6.0.1','6.0.0','5.1.0','5.0.7','5.0.6','5.0.5','5.0.4','5.0.3','5.0.2','5.0.0','4.5.8','4.5.7','4.5.6','4.4.7','4.4.6','4.4.5','4.4.4','4.3.0','4.2.0','4.1.0','4.0.0']"
   ]
  },
  {
   "cell_type": "code",
   "execution_count": 26,
   "id": "8fe016c4",
   "metadata": {},
   "outputs": [],
   "source": [
    "hjelp_version_dates = ['14-02-2023','30-08-2022','19-08-2022','16-08-2022','04-08-2022','16-06-2022','03-01-2022','28-05-2021','16-04-2021','24-03-2021','23-03-2021','22-03-2021','19-03-2021','17-03-2021','01-10-2020','24-09-2020','23-09-2020','23-10-2019','16-10-2019','11-10-2019','10-10-2019','30-05-2019','24-05-2019','12-02-2019','19-12-2018']"
   ]
  },
  {
   "cell_type": "code",
   "execution_count": 27,
   "id": "ef433bb9",
   "metadata": {},
   "outputs": [],
   "source": [
    "hjelp_release_dates_df = pd.DataFrame()\n",
    "hjelp_release_dates_df['versions'] = hjelp_versions\n",
    "hjelp_release_dates_df['release_dates'] = hjelp_version_dates"
   ]
  },
  {
   "cell_type": "code",
   "execution_count": 34,
   "id": "b8e11705",
   "metadata": {},
   "outputs": [
    {
     "name": "stderr",
     "output_type": "stream",
     "text": [
      "C:\\Users\\Fuzel Shaik\\AppData\\Local\\Temp\\ipykernel_34680\\870679839.py:16: SettingWithCopyWarning: \n",
      "A value is trying to be set on a copy of a slice from a DataFrame\n",
      "\n",
      "See the caveats in the documentation: https://pandas.pydata.org/pandas-docs/stable/user_guide/indexing.html#returning-a-view-versus-a-copy\n",
      "  help_113_df['reviewCreatedVersion'].iloc[i] = '<'+hjelp_release_dates_df['versions'].iloc[j]\n"
     ]
    }
   ],
   "source": [
    "l = ['27-02-2023']\n",
    "for i in range(hjelp_release_dates_df.shape[0]-1):\n",
    "    l.append(hjelp_release_dates_df['release_dates'].iloc[i])\n",
    "hjelp_release_dates_df['end_dates'] = l\n",
    "for i in list(np.where(help_113_df['reviewCreatedVersion'].isnull())[0]):\n",
    "        for j in range(hjelp_release_dates_df.shape[0]):\n",
    "                d1, m1, y1 = [int(x) for x in hjelp_release_dates_df['release_dates'].iloc[j].split('-')]\n",
    "                b1 = date(y1, m1, d1)\n",
    "                d2, m2, y2 = [int(x) for x in hjelp_release_dates_df['end_dates'].iloc[j].split('-')]\n",
    "                b2 = date(y2, m2, d2)\n",
    "                y, m, d = [int(x) for x in help_113_df['Date of Review'].iloc[i].split(' ')[0].split('-')]\n",
    "                b = date(y, m, d) \n",
    "                if b>=b1 and b<b2:\n",
    "                    help_113_df['reviewCreatedVersion'].iloc[i] = hjelp_release_dates_df['versions'].iloc[j]\n",
    "                else:\n",
    "                    help_113_df['reviewCreatedVersion'].iloc[i] = '<'+hjelp_release_dates_df['versions'].iloc[j]"
   ]
  },
  {
   "cell_type": "code",
   "execution_count": 35,
   "id": "ccf0a3d4",
   "metadata": {},
   "outputs": [
    {
     "data": {
      "text/plain": [
       "Review Id               114\n",
       "User Name                 0\n",
       "Review                    0\n",
       "Rating                    0\n",
       "Date of Review            0\n",
       "reviewCreatedVersion      0\n",
       "dtype: int64"
      ]
     },
     "execution_count": 35,
     "metadata": {},
     "output_type": "execute_result"
    }
   ],
   "source": [
    "help_113_df.isnull().sum()"
   ]
  },
  {
   "cell_type": "code",
   "execution_count": 37,
   "id": "9c0036ac",
   "metadata": {},
   "outputs": [],
   "source": [
    "help_113_df.to_csv('hjlep_113_updated.csv',index=False)"
   ]
  },
  {
   "cell_type": "code",
   "execution_count": null,
   "id": "2a37882b",
   "metadata": {},
   "outputs": [],
   "source": []
  }
 ],
 "metadata": {
  "kernelspec": {
   "display_name": "Python 3 (ipykernel)",
   "language": "python",
   "name": "python3"
  },
  "language_info": {
   "codemirror_mode": {
    "name": "ipython",
    "version": 3
   },
   "file_extension": ".py",
   "mimetype": "text/x-python",
   "name": "python",
   "nbconvert_exporter": "python",
   "pygments_lexer": "ipython3",
   "version": "3.9.13"
  }
 },
 "nbformat": 4,
 "nbformat_minor": 5
}
