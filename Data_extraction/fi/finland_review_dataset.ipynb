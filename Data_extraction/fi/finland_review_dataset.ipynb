{
 "cells": [
  {
   "cell_type": "code",
   "execution_count": 1,
   "id": "72a3063c",
   "metadata": {},
   "outputs": [],
   "source": [
    "import pandas as pd\n",
    "import numpy as np"
   ]
  },
  {
   "cell_type": "code",
   "execution_count": 5,
   "id": "8f5e4d2c",
   "metadata": {},
   "outputs": [],
   "source": [
    "suomi_112_df = pd.read_csv('112 Suomi.csv')\n",
    "emp_plus_df = pd.read_csv('Emergency Plus.csv')"
   ]
  },
  {
   "cell_type": "code",
   "execution_count": 6,
   "id": "28157744",
   "metadata": {},
   "outputs": [
    {
     "data": {
      "text/plain": [
       "(293, 6)"
      ]
     },
     "execution_count": 6,
     "metadata": {},
     "output_type": "execute_result"
    }
   ],
   "source": [
    "suomi_112_df.shape"
   ]
  },
  {
   "cell_type": "code",
   "execution_count": 7,
   "id": "b60e9a86",
   "metadata": {},
   "outputs": [
    {
     "data": {
      "text/plain": [
       "(973, 6)"
      ]
     },
     "execution_count": 7,
     "metadata": {},
     "output_type": "execute_result"
    }
   ],
   "source": [
    "emp_plus_df.shape"
   ]
  },
  {
   "cell_type": "code",
   "execution_count": 9,
   "id": "967b69d7",
   "metadata": {},
   "outputs": [
    {
     "data": {
      "text/plain": [
       "Review Id               176\n",
       "User Name                 0\n",
       "Review                    5\n",
       "Rating                    0\n",
       "Date of Review            0\n",
       "reviewCreatedVersion    184\n",
       "dtype: int64"
      ]
     },
     "execution_count": 9,
     "metadata": {},
     "output_type": "execute_result"
    }
   ],
   "source": [
    "suomi_112_df.isnull().sum()"
   ]
  },
  {
   "cell_type": "code",
   "execution_count": 10,
   "id": "9202e6dc",
   "metadata": {},
   "outputs": [
    {
     "data": {
      "text/plain": [
       "Review Id               207\n",
       "User Name                 0\n",
       "Review                    0\n",
       "Rating                    0\n",
       "Date of Review            0\n",
       "reviewCreatedVersion    292\n",
       "dtype: int64"
      ]
     },
     "execution_count": 10,
     "metadata": {},
     "output_type": "execute_result"
    }
   ],
   "source": [
    "emp_plus_df.isnull().sum()"
   ]
  },
  {
   "cell_type": "code",
   "execution_count": null,
   "id": "cd1ceb7e",
   "metadata": {},
   "outputs": [],
   "source": []
  }
 ],
 "metadata": {
  "kernelspec": {
   "display_name": "Python 3 (ipykernel)",
   "language": "python",
   "name": "python3"
  },
  "language_info": {
   "codemirror_mode": {
    "name": "ipython",
    "version": 3
   },
   "file_extension": ".py",
   "mimetype": "text/x-python",
   "name": "python",
   "nbconvert_exporter": "python",
   "pygments_lexer": "ipython3",
   "version": "3.9.13"
  }
 },
 "nbformat": 4,
 "nbformat_minor": 5
}
